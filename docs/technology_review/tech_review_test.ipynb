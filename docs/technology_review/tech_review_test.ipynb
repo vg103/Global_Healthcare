{
 "cells": [
  {
   "cell_type": "code",
   "execution_count": 8,
   "metadata": {},
   "outputs": [],
   "source": [
    "import pandas as pd\n",
    "\n",
    "import plotly.express as px\n",
    "import plotly.graph_objects as go\n",
    "import ipywidgets as widgets\n",
    "from IPython.display import display\n",
    "\n",
    "from bokeh.plotting import figure, show, output_notebook\n",
    "from bokeh.models import ColumnDataSource, Select\n",
    "from bokeh.layouts import column\n",
    "from bokeh.models import HoverTool\n",
    "from bokeh.io import push_notebook\n"
   ]
  },
  {
   "cell_type": "markdown",
   "metadata": {},
   "source": [
    "#### helathcare.py functions"
   ]
  },
  {
   "cell_type": "code",
   "execution_count": 2,
   "metadata": {},
   "outputs": [],
   "source": [
    "def import_data(data_path):\n",
    "    df = pd.read_csv(data_path, header=0, encoding = \"utf-8\", na_values=[\"NA\", \"null\", \"\", \"NaN\"])\n",
    "\n",
    "    df = df.dropna(axis = 1, thresh=1)\n",
    "\n",
    "    return df\n",
    "\n",
    "\n",
    "def pivot_IHME(df):\n",
    "\n",
    "    pivoted_df = df.pivot_table(index=['location', 'sex', 'cause', 'year'], \n",
    "                            columns='measure', \n",
    "                            values='val', \n",
    "                            aggfunc='first') \n",
    "\n",
    "    # Reset the index if needed\n",
    "    pivoted_df = pivoted_df.reset_index()\n",
    "\n",
    "    # Rename the columns for clarity\n",
    "    pivoted_df = pivoted_df.rename(columns={'death': 'death_rate', 'incidence': 'incidence_rate'})\n",
    "\n",
    "    pivoted_df.to_csv('data/pivotted_dataframe_IHME.csv', index=False)\n",
    "\n",
    "    return pivoted_df\n",
    "\n",
    "\n",
    "def pivot_WHO(df):\n",
    "\n",
    "    pivoted_df = df.pivot_table(index=['ParentLocation', 'Location', 'Period'], \n",
    "                            columns='Indicator', \n",
    "                            values='Value', \n",
    "                            aggfunc='first') \n",
    "\n",
    "    # Reset the index if needed\n",
    "    pivoted_df = pivoted_df.reset_index()\n",
    "\n",
    "    pivoted_df.to_csv('data/pivotted_dataframe_WHO.csv', index=False)\n",
    "\n",
    "    return pivoted_df"
   ]
  },
  {
   "cell_type": "code",
   "execution_count": 3,
   "metadata": {},
   "outputs": [
    {
     "name": "stdout",
     "output_type": "stream",
     "text": [
      "<class 'pandas.core.frame.DataFrame'>\n",
      "RangeIndex: 14189 entries, 0 to 14188\n",
      "Data columns (total 5 columns):\n",
      " #   Column          Non-Null Count  Dtype \n",
      "---  ------          --------------  ----- \n",
      " 0   Indicator       14189 non-null  object\n",
      " 1   ParentLocation  14189 non-null  object\n",
      " 2   Location        14189 non-null  object\n",
      " 3   Period          14189 non-null  int64 \n",
      " 4   Value           14189 non-null  object\n",
      "dtypes: int64(1), object(4)\n",
      "memory usage: 554.4+ KB\n",
      "None\n",
      "<class 'pandas.core.frame.DataFrame'>\n",
      "RangeIndex: 970632 entries, 0 to 970631\n",
      "Data columns (total 6 columns):\n",
      " #   Column    Non-Null Count   Dtype  \n",
      "---  ------    --------------   -----  \n",
      " 0   measure   970632 non-null  object \n",
      " 1   location  970632 non-null  object \n",
      " 2   sex       970632 non-null  object \n",
      " 3   cause     970632 non-null  object \n",
      " 4   year      970632 non-null  int64  \n",
      " 5   val       970632 non-null  float64\n",
      "dtypes: float64(1), int64(1), object(4)\n",
      "memory usage: 44.4+ MB\n",
      "None\n"
     ]
    }
   ],
   "source": [
    "\n",
    "data_WHO = import_data(\"data/WHO data.csv\")\n",
    "data_WHO = data_WHO.drop(['ParentLocationCode', 'SpatialDimValueCode', 'IndicatorCode', 'Period type', 'Location type', 'ValueType', 'FactComments', 'FactValueNumeric', 'Language', 'IsLatestYear', 'DateModified'], axis=1)\n",
    "\n",
    "print(data_WHO.info())\n",
    "\n",
    "\n",
    "data_IHME_1 = import_data(\"data/IHME-1.csv\")\n",
    "data_IHME_2 = import_data(\"data/IHME-2.csv\")\n",
    "data_IHME_combined = pd.concat([data_IHME_1, data_IHME_2], axis=0, ignore_index=True)\n",
    "data_IHME_combined = data_IHME_combined.drop(['age', 'metric', 'upper', 'lower'], axis=1)\n",
    "\n",
    "print(data_IHME_combined.info())\n",
    "\n",
    "df_IHME = pivot_IHME(data_IHME_combined)\n",
    "df_WHO = pivot_WHO(data_WHO)\n",
    "\n",
    "# graph_docs_by_country(df_WHO)"
   ]
  },
  {
   "cell_type": "markdown",
   "metadata": {},
   "source": [
    "#### Plotly"
   ]
  },
  {
   "cell_type": "code",
   "execution_count": 4,
   "metadata": {},
   "outputs": [
    {
     "data": {
      "application/vnd.plotly.v1+json": {
       "config": {
        "plotlyServerURL": "https://plot.ly"
       },
       "data": [
        {
         "alignmentgroup": "True",
         "hoverinfo": "x+y",
         "hovertemplate": "Country=%{x}<br>Medical doctors (per 10,000)=%{y}<extra></extra>",
         "legendgroup": "",
         "marker": {
          "color": "royalblue",
          "pattern": {
           "shape": ""
          }
         },
         "name": "",
         "offsetgroup": "",
         "orientation": "v",
         "showlegend": false,
         "textposition": "outside",
         "texttemplate": "%{y}",
         "type": "bar",
         "x": [
          "Cabo Verde",
          "Bangladesh",
          "Belgium",
          "Lithuania",
          "Georgia",
          "Austria",
          "Argentina",
          "Andorra",
          "Eswatini",
          "Indonesia",
          "Norway",
          "Belarus",
          "San Marino",
          "Iceland",
          "Poland",
          "Republic of Moldova",
          "Jamaica",
          "Ireland",
          "Israel",
          "Kazakhstan",
          "Ukraine",
          "Saudi Arabia",
          "Chile",
          "United Kingdom of Great Britain and Northern Ireland",
          "Qatar",
          "Nigeria",
          "Botswana",
          "Afghanistan",
          "United Arab Emirates",
          "Canada",
          "Montenegro",
          "Colombia",
          "Dominican Republic",
          "Brazil",
          "Malaysia",
          "Kenya",
          "Ghana",
          "Solomon Islands",
          "Benin",
          "Turkmenistan",
          "Tajikistan",
          "Kyrgyzstan",
          "Iran (Islamic Republic of)",
          "Palau",
          "Peru",
          "El Salvador",
          "Suriname",
          "Sri Lanka",
          "Nepal",
          "Mali",
          "Cote d'Ivoire",
          "Ethiopia",
          "Zimbabwe",
          "Senegal",
          "Yemen",
          "Gambia",
          "Chad",
          "Central African Republic",
          "Papua New Guinea",
          "Niger"
         ],
         "xaxis": "x",
         "y": [
          "7.3",
          "7.22",
          "65.25",
          "61.04",
          "56.42",
          "55.15",
          "51.06",
          "50.68",
          "5.57",
          "5.24",
          "49.75",
          "47.17",
          "46.29",
          "43.73",
          "40.31",
          "40.16",
          "4.6",
          "38.75",
          "37.97",
          "37.54",
          "35.31",
          "34.06",
          "33.34",
          "33.01",
          "30.22",
          "3.8",
          "3.79",
          "3.17",
          "29.92",
          "28.19",
          "27.83",
          "25.35",
          "24.26",
          "23.57",
          "23.41",
          "2.89",
          "2.66",
          "2.38",
          "2.16",
          "19.3",
          "18.7",
          "18.5",
          "18.11",
          "18.08",
          "16.88",
          "16.16",
          "13.55",
          "11.36",
          "10.11",
          "1.88",
          "1.66",
          "1.43",
          "1.36",
          "1.09",
          "0.98",
          "0.9",
          "0.85",
          "0.74",
          "0.61",
          "0.38"
         ],
         "yaxis": "y"
        }
       ],
       "layout": {
        "bargap": 0.2,
        "barmode": "relative",
        "dragmode": "zoom",
        "hovermode": "x unified",
        "legend": {
         "tracegroupgap": 0
        },
        "template": {
         "data": {
          "bar": [
           {
            "error_x": {
             "color": "#2a3f5f"
            },
            "error_y": {
             "color": "#2a3f5f"
            },
            "marker": {
             "line": {
              "color": "#E5ECF6",
              "width": 0.5
             },
             "pattern": {
              "fillmode": "overlay",
              "size": 10,
              "solidity": 0.2
             }
            },
            "type": "bar"
           }
          ],
          "barpolar": [
           {
            "marker": {
             "line": {
              "color": "#E5ECF6",
              "width": 0.5
             },
             "pattern": {
              "fillmode": "overlay",
              "size": 10,
              "solidity": 0.2
             }
            },
            "type": "barpolar"
           }
          ],
          "carpet": [
           {
            "aaxis": {
             "endlinecolor": "#2a3f5f",
             "gridcolor": "white",
             "linecolor": "white",
             "minorgridcolor": "white",
             "startlinecolor": "#2a3f5f"
            },
            "baxis": {
             "endlinecolor": "#2a3f5f",
             "gridcolor": "white",
             "linecolor": "white",
             "minorgridcolor": "white",
             "startlinecolor": "#2a3f5f"
            },
            "type": "carpet"
           }
          ],
          "choropleth": [
           {
            "colorbar": {
             "outlinewidth": 0,
             "ticks": ""
            },
            "type": "choropleth"
           }
          ],
          "contour": [
           {
            "colorbar": {
             "outlinewidth": 0,
             "ticks": ""
            },
            "colorscale": [
             [
              0,
              "#0d0887"
             ],
             [
              0.1111111111111111,
              "#46039f"
             ],
             [
              0.2222222222222222,
              "#7201a8"
             ],
             [
              0.3333333333333333,
              "#9c179e"
             ],
             [
              0.4444444444444444,
              "#bd3786"
             ],
             [
              0.5555555555555556,
              "#d8576b"
             ],
             [
              0.6666666666666666,
              "#ed7953"
             ],
             [
              0.7777777777777778,
              "#fb9f3a"
             ],
             [
              0.8888888888888888,
              "#fdca26"
             ],
             [
              1,
              "#f0f921"
             ]
            ],
            "type": "contour"
           }
          ],
          "contourcarpet": [
           {
            "colorbar": {
             "outlinewidth": 0,
             "ticks": ""
            },
            "type": "contourcarpet"
           }
          ],
          "heatmap": [
           {
            "colorbar": {
             "outlinewidth": 0,
             "ticks": ""
            },
            "colorscale": [
             [
              0,
              "#0d0887"
             ],
             [
              0.1111111111111111,
              "#46039f"
             ],
             [
              0.2222222222222222,
              "#7201a8"
             ],
             [
              0.3333333333333333,
              "#9c179e"
             ],
             [
              0.4444444444444444,
              "#bd3786"
             ],
             [
              0.5555555555555556,
              "#d8576b"
             ],
             [
              0.6666666666666666,
              "#ed7953"
             ],
             [
              0.7777777777777778,
              "#fb9f3a"
             ],
             [
              0.8888888888888888,
              "#fdca26"
             ],
             [
              1,
              "#f0f921"
             ]
            ],
            "type": "heatmap"
           }
          ],
          "heatmapgl": [
           {
            "colorbar": {
             "outlinewidth": 0,
             "ticks": ""
            },
            "colorscale": [
             [
              0,
              "#0d0887"
             ],
             [
              0.1111111111111111,
              "#46039f"
             ],
             [
              0.2222222222222222,
              "#7201a8"
             ],
             [
              0.3333333333333333,
              "#9c179e"
             ],
             [
              0.4444444444444444,
              "#bd3786"
             ],
             [
              0.5555555555555556,
              "#d8576b"
             ],
             [
              0.6666666666666666,
              "#ed7953"
             ],
             [
              0.7777777777777778,
              "#fb9f3a"
             ],
             [
              0.8888888888888888,
              "#fdca26"
             ],
             [
              1,
              "#f0f921"
             ]
            ],
            "type": "heatmapgl"
           }
          ],
          "histogram": [
           {
            "marker": {
             "pattern": {
              "fillmode": "overlay",
              "size": 10,
              "solidity": 0.2
             }
            },
            "type": "histogram"
           }
          ],
          "histogram2d": [
           {
            "colorbar": {
             "outlinewidth": 0,
             "ticks": ""
            },
            "colorscale": [
             [
              0,
              "#0d0887"
             ],
             [
              0.1111111111111111,
              "#46039f"
             ],
             [
              0.2222222222222222,
              "#7201a8"
             ],
             [
              0.3333333333333333,
              "#9c179e"
             ],
             [
              0.4444444444444444,
              "#bd3786"
             ],
             [
              0.5555555555555556,
              "#d8576b"
             ],
             [
              0.6666666666666666,
              "#ed7953"
             ],
             [
              0.7777777777777778,
              "#fb9f3a"
             ],
             [
              0.8888888888888888,
              "#fdca26"
             ],
             [
              1,
              "#f0f921"
             ]
            ],
            "type": "histogram2d"
           }
          ],
          "histogram2dcontour": [
           {
            "colorbar": {
             "outlinewidth": 0,
             "ticks": ""
            },
            "colorscale": [
             [
              0,
              "#0d0887"
             ],
             [
              0.1111111111111111,
              "#46039f"
             ],
             [
              0.2222222222222222,
              "#7201a8"
             ],
             [
              0.3333333333333333,
              "#9c179e"
             ],
             [
              0.4444444444444444,
              "#bd3786"
             ],
             [
              0.5555555555555556,
              "#d8576b"
             ],
             [
              0.6666666666666666,
              "#ed7953"
             ],
             [
              0.7777777777777778,
              "#fb9f3a"
             ],
             [
              0.8888888888888888,
              "#fdca26"
             ],
             [
              1,
              "#f0f921"
             ]
            ],
            "type": "histogram2dcontour"
           }
          ],
          "mesh3d": [
           {
            "colorbar": {
             "outlinewidth": 0,
             "ticks": ""
            },
            "type": "mesh3d"
           }
          ],
          "parcoords": [
           {
            "line": {
             "colorbar": {
              "outlinewidth": 0,
              "ticks": ""
             }
            },
            "type": "parcoords"
           }
          ],
          "pie": [
           {
            "automargin": true,
            "type": "pie"
           }
          ],
          "scatter": [
           {
            "fillpattern": {
             "fillmode": "overlay",
             "size": 10,
             "solidity": 0.2
            },
            "type": "scatter"
           }
          ],
          "scatter3d": [
           {
            "line": {
             "colorbar": {
              "outlinewidth": 0,
              "ticks": ""
             }
            },
            "marker": {
             "colorbar": {
              "outlinewidth": 0,
              "ticks": ""
             }
            },
            "type": "scatter3d"
           }
          ],
          "scattercarpet": [
           {
            "marker": {
             "colorbar": {
              "outlinewidth": 0,
              "ticks": ""
             }
            },
            "type": "scattercarpet"
           }
          ],
          "scattergeo": [
           {
            "marker": {
             "colorbar": {
              "outlinewidth": 0,
              "ticks": ""
             }
            },
            "type": "scattergeo"
           }
          ],
          "scattergl": [
           {
            "marker": {
             "colorbar": {
              "outlinewidth": 0,
              "ticks": ""
             }
            },
            "type": "scattergl"
           }
          ],
          "scattermapbox": [
           {
            "marker": {
             "colorbar": {
              "outlinewidth": 0,
              "ticks": ""
             }
            },
            "type": "scattermapbox"
           }
          ],
          "scatterpolar": [
           {
            "marker": {
             "colorbar": {
              "outlinewidth": 0,
              "ticks": ""
             }
            },
            "type": "scatterpolar"
           }
          ],
          "scatterpolargl": [
           {
            "marker": {
             "colorbar": {
              "outlinewidth": 0,
              "ticks": ""
             }
            },
            "type": "scatterpolargl"
           }
          ],
          "scatterternary": [
           {
            "marker": {
             "colorbar": {
              "outlinewidth": 0,
              "ticks": ""
             }
            },
            "type": "scatterternary"
           }
          ],
          "surface": [
           {
            "colorbar": {
             "outlinewidth": 0,
             "ticks": ""
            },
            "colorscale": [
             [
              0,
              "#0d0887"
             ],
             [
              0.1111111111111111,
              "#46039f"
             ],
             [
              0.2222222222222222,
              "#7201a8"
             ],
             [
              0.3333333333333333,
              "#9c179e"
             ],
             [
              0.4444444444444444,
              "#bd3786"
             ],
             [
              0.5555555555555556,
              "#d8576b"
             ],
             [
              0.6666666666666666,
              "#ed7953"
             ],
             [
              0.7777777777777778,
              "#fb9f3a"
             ],
             [
              0.8888888888888888,
              "#fdca26"
             ],
             [
              1,
              "#f0f921"
             ]
            ],
            "type": "surface"
           }
          ],
          "table": [
           {
            "cells": {
             "fill": {
              "color": "#EBF0F8"
             },
             "line": {
              "color": "white"
             }
            },
            "header": {
             "fill": {
              "color": "#C8D4E3"
             },
             "line": {
              "color": "white"
             }
            },
            "type": "table"
           }
          ]
         },
         "layout": {
          "annotationdefaults": {
           "arrowcolor": "#2a3f5f",
           "arrowhead": 0,
           "arrowwidth": 1
          },
          "autotypenumbers": "strict",
          "coloraxis": {
           "colorbar": {
            "outlinewidth": 0,
            "ticks": ""
           }
          },
          "colorscale": {
           "diverging": [
            [
             0,
             "#8e0152"
            ],
            [
             0.1,
             "#c51b7d"
            ],
            [
             0.2,
             "#de77ae"
            ],
            [
             0.3,
             "#f1b6da"
            ],
            [
             0.4,
             "#fde0ef"
            ],
            [
             0.5,
             "#f7f7f7"
            ],
            [
             0.6,
             "#e6f5d0"
            ],
            [
             0.7,
             "#b8e186"
            ],
            [
             0.8,
             "#7fbc41"
            ],
            [
             0.9,
             "#4d9221"
            ],
            [
             1,
             "#276419"
            ]
           ],
           "sequential": [
            [
             0,
             "#0d0887"
            ],
            [
             0.1111111111111111,
             "#46039f"
            ],
            [
             0.2222222222222222,
             "#7201a8"
            ],
            [
             0.3333333333333333,
             "#9c179e"
            ],
            [
             0.4444444444444444,
             "#bd3786"
            ],
            [
             0.5555555555555556,
             "#d8576b"
            ],
            [
             0.6666666666666666,
             "#ed7953"
            ],
            [
             0.7777777777777778,
             "#fb9f3a"
            ],
            [
             0.8888888888888888,
             "#fdca26"
            ],
            [
             1,
             "#f0f921"
            ]
           ],
           "sequentialminus": [
            [
             0,
             "#0d0887"
            ],
            [
             0.1111111111111111,
             "#46039f"
            ],
            [
             0.2222222222222222,
             "#7201a8"
            ],
            [
             0.3333333333333333,
             "#9c179e"
            ],
            [
             0.4444444444444444,
             "#bd3786"
            ],
            [
             0.5555555555555556,
             "#d8576b"
            ],
            [
             0.6666666666666666,
             "#ed7953"
            ],
            [
             0.7777777777777778,
             "#fb9f3a"
            ],
            [
             0.8888888888888888,
             "#fdca26"
            ],
            [
             1,
             "#f0f921"
            ]
           ]
          },
          "colorway": [
           "#636efa",
           "#EF553B",
           "#00cc96",
           "#ab63fa",
           "#FFA15A",
           "#19d3f3",
           "#FF6692",
           "#B6E880",
           "#FF97FF",
           "#FECB52"
          ],
          "font": {
           "color": "#2a3f5f"
          },
          "geo": {
           "bgcolor": "white",
           "lakecolor": "white",
           "landcolor": "#E5ECF6",
           "showlakes": true,
           "showland": true,
           "subunitcolor": "white"
          },
          "hoverlabel": {
           "align": "left"
          },
          "hovermode": "closest",
          "mapbox": {
           "style": "light"
          },
          "paper_bgcolor": "white",
          "plot_bgcolor": "#E5ECF6",
          "polar": {
           "angularaxis": {
            "gridcolor": "white",
            "linecolor": "white",
            "ticks": ""
           },
           "bgcolor": "#E5ECF6",
           "radialaxis": {
            "gridcolor": "white",
            "linecolor": "white",
            "ticks": ""
           }
          },
          "scene": {
           "xaxis": {
            "backgroundcolor": "#E5ECF6",
            "gridcolor": "white",
            "gridwidth": 2,
            "linecolor": "white",
            "showbackground": true,
            "ticks": "",
            "zerolinecolor": "white"
           },
           "yaxis": {
            "backgroundcolor": "#E5ECF6",
            "gridcolor": "white",
            "gridwidth": 2,
            "linecolor": "white",
            "showbackground": true,
            "ticks": "",
            "zerolinecolor": "white"
           },
           "zaxis": {
            "backgroundcolor": "#E5ECF6",
            "gridcolor": "white",
            "gridwidth": 2,
            "linecolor": "white",
            "showbackground": true,
            "ticks": "",
            "zerolinecolor": "white"
           }
          },
          "shapedefaults": {
           "line": {
            "color": "#2a3f5f"
           }
          },
          "ternary": {
           "aaxis": {
            "gridcolor": "white",
            "linecolor": "white",
            "ticks": ""
           },
           "baxis": {
            "gridcolor": "white",
            "linecolor": "white",
            "ticks": ""
           },
           "bgcolor": "#E5ECF6",
           "caxis": {
            "gridcolor": "white",
            "linecolor": "white",
            "ticks": ""
           }
          },
          "title": {
           "x": 0.05
          },
          "xaxis": {
           "automargin": true,
           "gridcolor": "white",
           "linecolor": "white",
           "ticks": "",
           "title": {
            "standoff": 15
           },
           "zerolinecolor": "white",
           "zerolinewidth": 2
          },
          "yaxis": {
           "automargin": true,
           "gridcolor": "white",
           "linecolor": "white",
           "ticks": "",
           "title": {
            "standoff": 15
           },
           "zerolinecolor": "white",
           "zerolinewidth": 2
          }
         }
        },
        "title": {
         "text": "Medical Doctors per 10,000 People (2023) - All"
        },
        "xaxis": {
         "anchor": "y",
         "categoryorder": "total descending",
         "domain": [
          0,
          1
         ],
         "title": {
          "text": "Country"
         }
        },
        "yaxis": {
         "anchor": "x",
         "domain": [
          0,
          1
         ],
         "title": {
          "text": "Doctors per 10,000 People"
         }
        }
       }
      }
     },
     "metadata": {},
     "output_type": "display_data"
    },
    {
     "data": {
      "application/vnd.jupyter.widget-view+json": {
       "model_id": "d075a0c556784c63a6717d3766c61f06",
       "version_major": 2,
       "version_minor": 0
      },
      "text/plain": [
       "Dropdown(description='Region:', options=('All', 'Africa', 'Americas', 'Eastern Mediterranean', 'Europe', 'Sout…"
      ]
     },
     "metadata": {},
     "output_type": "display_data"
    },
    {
     "data": {
      "application/vnd.jupyter.widget-view+json": {
       "model_id": "3b15954890174ebc99bfc6525b906ad5",
       "version_major": 2,
       "version_minor": 0
      },
      "text/plain": [
       "Dropdown(description='Year:', index=69, options=(1954, 1955, 1956, 1957, 1958, 1959, 1960, 1961, 1962, 1963, 1…"
      ]
     },
     "metadata": {},
     "output_type": "display_data"
    },
    {
     "data": {
      "application/vnd.plotly.v1+json": {
       "config": {
        "plotlyServerURL": "https://plot.ly"
       },
       "data": [
        {
         "alignmentgroup": "True",
         "hoverinfo": "x+y",
         "hovertemplate": "Country=%{x}<br>Medical doctors (per 10,000)=%{y}<extra></extra>",
         "legendgroup": "",
         "marker": {
          "color": "royalblue",
          "pattern": {
           "shape": ""
          }
         },
         "name": "",
         "offsetgroup": "",
         "orientation": "v",
         "showlegend": false,
         "textposition": "outside",
         "texttemplate": "%{y}",
         "type": "bar",
         "x": [
          "Cabo Verde",
          "Bangladesh",
          "Belgium",
          "Lithuania",
          "Georgia",
          "Austria",
          "Argentina",
          "Andorra",
          "Eswatini",
          "Indonesia",
          "Norway",
          "Belarus",
          "San Marino",
          "Iceland",
          "Poland",
          "Republic of Moldova",
          "Jamaica",
          "Ireland",
          "Israel",
          "Kazakhstan",
          "Ukraine",
          "Saudi Arabia",
          "Chile",
          "United Kingdom of Great Britain and Northern Ireland",
          "Qatar",
          "Nigeria",
          "Botswana",
          "Afghanistan",
          "United Arab Emirates",
          "Canada",
          "Montenegro",
          "Colombia",
          "Dominican Republic",
          "Brazil",
          "Malaysia",
          "Kenya",
          "Ghana",
          "Solomon Islands",
          "Benin",
          "Turkmenistan",
          "Tajikistan",
          "Kyrgyzstan",
          "Iran (Islamic Republic of)",
          "Palau",
          "Peru",
          "El Salvador",
          "Suriname",
          "Sri Lanka",
          "Nepal",
          "Mali",
          "Cote d'Ivoire",
          "Ethiopia",
          "Zimbabwe",
          "Senegal",
          "Yemen",
          "Gambia",
          "Chad",
          "Central African Republic",
          "Papua New Guinea",
          "Niger"
         ],
         "xaxis": "x",
         "y": [
          "7.3",
          "7.22",
          "65.25",
          "61.04",
          "56.42",
          "55.15",
          "51.06",
          "50.68",
          "5.57",
          "5.24",
          "49.75",
          "47.17",
          "46.29",
          "43.73",
          "40.31",
          "40.16",
          "4.6",
          "38.75",
          "37.97",
          "37.54",
          "35.31",
          "34.06",
          "33.34",
          "33.01",
          "30.22",
          "3.8",
          "3.79",
          "3.17",
          "29.92",
          "28.19",
          "27.83",
          "25.35",
          "24.26",
          "23.57",
          "23.41",
          "2.89",
          "2.66",
          "2.38",
          "2.16",
          "19.3",
          "18.7",
          "18.5",
          "18.11",
          "18.08",
          "16.88",
          "16.16",
          "13.55",
          "11.36",
          "10.11",
          "1.88",
          "1.66",
          "1.43",
          "1.36",
          "1.09",
          "0.98",
          "0.9",
          "0.85",
          "0.74",
          "0.61",
          "0.38"
         ],
         "yaxis": "y"
        }
       ],
       "layout": {
        "bargap": 0.2,
        "barmode": "relative",
        "dragmode": "zoom",
        "hovermode": "x unified",
        "legend": {
         "tracegroupgap": 0
        },
        "template": {
         "data": {
          "bar": [
           {
            "error_x": {
             "color": "#2a3f5f"
            },
            "error_y": {
             "color": "#2a3f5f"
            },
            "marker": {
             "line": {
              "color": "#E5ECF6",
              "width": 0.5
             },
             "pattern": {
              "fillmode": "overlay",
              "size": 10,
              "solidity": 0.2
             }
            },
            "type": "bar"
           }
          ],
          "barpolar": [
           {
            "marker": {
             "line": {
              "color": "#E5ECF6",
              "width": 0.5
             },
             "pattern": {
              "fillmode": "overlay",
              "size": 10,
              "solidity": 0.2
             }
            },
            "type": "barpolar"
           }
          ],
          "carpet": [
           {
            "aaxis": {
             "endlinecolor": "#2a3f5f",
             "gridcolor": "white",
             "linecolor": "white",
             "minorgridcolor": "white",
             "startlinecolor": "#2a3f5f"
            },
            "baxis": {
             "endlinecolor": "#2a3f5f",
             "gridcolor": "white",
             "linecolor": "white",
             "minorgridcolor": "white",
             "startlinecolor": "#2a3f5f"
            },
            "type": "carpet"
           }
          ],
          "choropleth": [
           {
            "colorbar": {
             "outlinewidth": 0,
             "ticks": ""
            },
            "type": "choropleth"
           }
          ],
          "contour": [
           {
            "colorbar": {
             "outlinewidth": 0,
             "ticks": ""
            },
            "colorscale": [
             [
              0,
              "#0d0887"
             ],
             [
              0.1111111111111111,
              "#46039f"
             ],
             [
              0.2222222222222222,
              "#7201a8"
             ],
             [
              0.3333333333333333,
              "#9c179e"
             ],
             [
              0.4444444444444444,
              "#bd3786"
             ],
             [
              0.5555555555555556,
              "#d8576b"
             ],
             [
              0.6666666666666666,
              "#ed7953"
             ],
             [
              0.7777777777777778,
              "#fb9f3a"
             ],
             [
              0.8888888888888888,
              "#fdca26"
             ],
             [
              1,
              "#f0f921"
             ]
            ],
            "type": "contour"
           }
          ],
          "contourcarpet": [
           {
            "colorbar": {
             "outlinewidth": 0,
             "ticks": ""
            },
            "type": "contourcarpet"
           }
          ],
          "heatmap": [
           {
            "colorbar": {
             "outlinewidth": 0,
             "ticks": ""
            },
            "colorscale": [
             [
              0,
              "#0d0887"
             ],
             [
              0.1111111111111111,
              "#46039f"
             ],
             [
              0.2222222222222222,
              "#7201a8"
             ],
             [
              0.3333333333333333,
              "#9c179e"
             ],
             [
              0.4444444444444444,
              "#bd3786"
             ],
             [
              0.5555555555555556,
              "#d8576b"
             ],
             [
              0.6666666666666666,
              "#ed7953"
             ],
             [
              0.7777777777777778,
              "#fb9f3a"
             ],
             [
              0.8888888888888888,
              "#fdca26"
             ],
             [
              1,
              "#f0f921"
             ]
            ],
            "type": "heatmap"
           }
          ],
          "heatmapgl": [
           {
            "colorbar": {
             "outlinewidth": 0,
             "ticks": ""
            },
            "colorscale": [
             [
              0,
              "#0d0887"
             ],
             [
              0.1111111111111111,
              "#46039f"
             ],
             [
              0.2222222222222222,
              "#7201a8"
             ],
             [
              0.3333333333333333,
              "#9c179e"
             ],
             [
              0.4444444444444444,
              "#bd3786"
             ],
             [
              0.5555555555555556,
              "#d8576b"
             ],
             [
              0.6666666666666666,
              "#ed7953"
             ],
             [
              0.7777777777777778,
              "#fb9f3a"
             ],
             [
              0.8888888888888888,
              "#fdca26"
             ],
             [
              1,
              "#f0f921"
             ]
            ],
            "type": "heatmapgl"
           }
          ],
          "histogram": [
           {
            "marker": {
             "pattern": {
              "fillmode": "overlay",
              "size": 10,
              "solidity": 0.2
             }
            },
            "type": "histogram"
           }
          ],
          "histogram2d": [
           {
            "colorbar": {
             "outlinewidth": 0,
             "ticks": ""
            },
            "colorscale": [
             [
              0,
              "#0d0887"
             ],
             [
              0.1111111111111111,
              "#46039f"
             ],
             [
              0.2222222222222222,
              "#7201a8"
             ],
             [
              0.3333333333333333,
              "#9c179e"
             ],
             [
              0.4444444444444444,
              "#bd3786"
             ],
             [
              0.5555555555555556,
              "#d8576b"
             ],
             [
              0.6666666666666666,
              "#ed7953"
             ],
             [
              0.7777777777777778,
              "#fb9f3a"
             ],
             [
              0.8888888888888888,
              "#fdca26"
             ],
             [
              1,
              "#f0f921"
             ]
            ],
            "type": "histogram2d"
           }
          ],
          "histogram2dcontour": [
           {
            "colorbar": {
             "outlinewidth": 0,
             "ticks": ""
            },
            "colorscale": [
             [
              0,
              "#0d0887"
             ],
             [
              0.1111111111111111,
              "#46039f"
             ],
             [
              0.2222222222222222,
              "#7201a8"
             ],
             [
              0.3333333333333333,
              "#9c179e"
             ],
             [
              0.4444444444444444,
              "#bd3786"
             ],
             [
              0.5555555555555556,
              "#d8576b"
             ],
             [
              0.6666666666666666,
              "#ed7953"
             ],
             [
              0.7777777777777778,
              "#fb9f3a"
             ],
             [
              0.8888888888888888,
              "#fdca26"
             ],
             [
              1,
              "#f0f921"
             ]
            ],
            "type": "histogram2dcontour"
           }
          ],
          "mesh3d": [
           {
            "colorbar": {
             "outlinewidth": 0,
             "ticks": ""
            },
            "type": "mesh3d"
           }
          ],
          "parcoords": [
           {
            "line": {
             "colorbar": {
              "outlinewidth": 0,
              "ticks": ""
             }
            },
            "type": "parcoords"
           }
          ],
          "pie": [
           {
            "automargin": true,
            "type": "pie"
           }
          ],
          "scatter": [
           {
            "fillpattern": {
             "fillmode": "overlay",
             "size": 10,
             "solidity": 0.2
            },
            "type": "scatter"
           }
          ],
          "scatter3d": [
           {
            "line": {
             "colorbar": {
              "outlinewidth": 0,
              "ticks": ""
             }
            },
            "marker": {
             "colorbar": {
              "outlinewidth": 0,
              "ticks": ""
             }
            },
            "type": "scatter3d"
           }
          ],
          "scattercarpet": [
           {
            "marker": {
             "colorbar": {
              "outlinewidth": 0,
              "ticks": ""
             }
            },
            "type": "scattercarpet"
           }
          ],
          "scattergeo": [
           {
            "marker": {
             "colorbar": {
              "outlinewidth": 0,
              "ticks": ""
             }
            },
            "type": "scattergeo"
           }
          ],
          "scattergl": [
           {
            "marker": {
             "colorbar": {
              "outlinewidth": 0,
              "ticks": ""
             }
            },
            "type": "scattergl"
           }
          ],
          "scattermapbox": [
           {
            "marker": {
             "colorbar": {
              "outlinewidth": 0,
              "ticks": ""
             }
            },
            "type": "scattermapbox"
           }
          ],
          "scatterpolar": [
           {
            "marker": {
             "colorbar": {
              "outlinewidth": 0,
              "ticks": ""
             }
            },
            "type": "scatterpolar"
           }
          ],
          "scatterpolargl": [
           {
            "marker": {
             "colorbar": {
              "outlinewidth": 0,
              "ticks": ""
             }
            },
            "type": "scatterpolargl"
           }
          ],
          "scatterternary": [
           {
            "marker": {
             "colorbar": {
              "outlinewidth": 0,
              "ticks": ""
             }
            },
            "type": "scatterternary"
           }
          ],
          "surface": [
           {
            "colorbar": {
             "outlinewidth": 0,
             "ticks": ""
            },
            "colorscale": [
             [
              0,
              "#0d0887"
             ],
             [
              0.1111111111111111,
              "#46039f"
             ],
             [
              0.2222222222222222,
              "#7201a8"
             ],
             [
              0.3333333333333333,
              "#9c179e"
             ],
             [
              0.4444444444444444,
              "#bd3786"
             ],
             [
              0.5555555555555556,
              "#d8576b"
             ],
             [
              0.6666666666666666,
              "#ed7953"
             ],
             [
              0.7777777777777778,
              "#fb9f3a"
             ],
             [
              0.8888888888888888,
              "#fdca26"
             ],
             [
              1,
              "#f0f921"
             ]
            ],
            "type": "surface"
           }
          ],
          "table": [
           {
            "cells": {
             "fill": {
              "color": "#EBF0F8"
             },
             "line": {
              "color": "white"
             }
            },
            "header": {
             "fill": {
              "color": "#C8D4E3"
             },
             "line": {
              "color": "white"
             }
            },
            "type": "table"
           }
          ]
         },
         "layout": {
          "annotationdefaults": {
           "arrowcolor": "#2a3f5f",
           "arrowhead": 0,
           "arrowwidth": 1
          },
          "autotypenumbers": "strict",
          "coloraxis": {
           "colorbar": {
            "outlinewidth": 0,
            "ticks": ""
           }
          },
          "colorscale": {
           "diverging": [
            [
             0,
             "#8e0152"
            ],
            [
             0.1,
             "#c51b7d"
            ],
            [
             0.2,
             "#de77ae"
            ],
            [
             0.3,
             "#f1b6da"
            ],
            [
             0.4,
             "#fde0ef"
            ],
            [
             0.5,
             "#f7f7f7"
            ],
            [
             0.6,
             "#e6f5d0"
            ],
            [
             0.7,
             "#b8e186"
            ],
            [
             0.8,
             "#7fbc41"
            ],
            [
             0.9,
             "#4d9221"
            ],
            [
             1,
             "#276419"
            ]
           ],
           "sequential": [
            [
             0,
             "#0d0887"
            ],
            [
             0.1111111111111111,
             "#46039f"
            ],
            [
             0.2222222222222222,
             "#7201a8"
            ],
            [
             0.3333333333333333,
             "#9c179e"
            ],
            [
             0.4444444444444444,
             "#bd3786"
            ],
            [
             0.5555555555555556,
             "#d8576b"
            ],
            [
             0.6666666666666666,
             "#ed7953"
            ],
            [
             0.7777777777777778,
             "#fb9f3a"
            ],
            [
             0.8888888888888888,
             "#fdca26"
            ],
            [
             1,
             "#f0f921"
            ]
           ],
           "sequentialminus": [
            [
             0,
             "#0d0887"
            ],
            [
             0.1111111111111111,
             "#46039f"
            ],
            [
             0.2222222222222222,
             "#7201a8"
            ],
            [
             0.3333333333333333,
             "#9c179e"
            ],
            [
             0.4444444444444444,
             "#bd3786"
            ],
            [
             0.5555555555555556,
             "#d8576b"
            ],
            [
             0.6666666666666666,
             "#ed7953"
            ],
            [
             0.7777777777777778,
             "#fb9f3a"
            ],
            [
             0.8888888888888888,
             "#fdca26"
            ],
            [
             1,
             "#f0f921"
            ]
           ]
          },
          "colorway": [
           "#636efa",
           "#EF553B",
           "#00cc96",
           "#ab63fa",
           "#FFA15A",
           "#19d3f3",
           "#FF6692",
           "#B6E880",
           "#FF97FF",
           "#FECB52"
          ],
          "font": {
           "color": "#2a3f5f"
          },
          "geo": {
           "bgcolor": "white",
           "lakecolor": "white",
           "landcolor": "#E5ECF6",
           "showlakes": true,
           "showland": true,
           "subunitcolor": "white"
          },
          "hoverlabel": {
           "align": "left"
          },
          "hovermode": "closest",
          "mapbox": {
           "style": "light"
          },
          "paper_bgcolor": "white",
          "plot_bgcolor": "#E5ECF6",
          "polar": {
           "angularaxis": {
            "gridcolor": "white",
            "linecolor": "white",
            "ticks": ""
           },
           "bgcolor": "#E5ECF6",
           "radialaxis": {
            "gridcolor": "white",
            "linecolor": "white",
            "ticks": ""
           }
          },
          "scene": {
           "xaxis": {
            "backgroundcolor": "#E5ECF6",
            "gridcolor": "white",
            "gridwidth": 2,
            "linecolor": "white",
            "showbackground": true,
            "ticks": "",
            "zerolinecolor": "white"
           },
           "yaxis": {
            "backgroundcolor": "#E5ECF6",
            "gridcolor": "white",
            "gridwidth": 2,
            "linecolor": "white",
            "showbackground": true,
            "ticks": "",
            "zerolinecolor": "white"
           },
           "zaxis": {
            "backgroundcolor": "#E5ECF6",
            "gridcolor": "white",
            "gridwidth": 2,
            "linecolor": "white",
            "showbackground": true,
            "ticks": "",
            "zerolinecolor": "white"
           }
          },
          "shapedefaults": {
           "line": {
            "color": "#2a3f5f"
           }
          },
          "ternary": {
           "aaxis": {
            "gridcolor": "white",
            "linecolor": "white",
            "ticks": ""
           },
           "baxis": {
            "gridcolor": "white",
            "linecolor": "white",
            "ticks": ""
           },
           "bgcolor": "#E5ECF6",
           "caxis": {
            "gridcolor": "white",
            "linecolor": "white",
            "ticks": ""
           }
          },
          "title": {
           "x": 0.05
          },
          "xaxis": {
           "automargin": true,
           "gridcolor": "white",
           "linecolor": "white",
           "ticks": "",
           "title": {
            "standoff": 15
           },
           "zerolinecolor": "white",
           "zerolinewidth": 2
          },
          "yaxis": {
           "automargin": true,
           "gridcolor": "white",
           "linecolor": "white",
           "ticks": "",
           "title": {
            "standoff": 15
           },
           "zerolinecolor": "white",
           "zerolinewidth": 2
          }
         }
        },
        "title": {
         "text": "Medical Doctors per 10,000 People (2023) - All"
        },
        "xaxis": {
         "anchor": "y",
         "categoryorder": "total descending",
         "domain": [
          0,
          1
         ],
         "title": {
          "text": "Country"
         }
        },
        "yaxis": {
         "anchor": "x",
         "domain": [
          0,
          1
         ],
         "title": {
          "text": "Doctors per 10,000 People"
         }
        }
       }
      }
     },
     "metadata": {},
     "output_type": "display_data"
    }
   ],
   "source": [
    "def graph_docs_by_country_plotly(df):\n",
    "    parent_locations = df['ParentLocation'].dropna().unique()\n",
    "    parent_locations.sort()\n",
    "\n",
    "    years = sorted(df['Period'].unique())\n",
    "\n",
    "    region_dropdown = widgets.Dropdown(\n",
    "        options=['All'] + list(parent_locations),\n",
    "        value='All',\n",
    "        description='Region:',\n",
    "        style={'description_width': 'initial'}\n",
    "    )\n",
    "\n",
    "    year_dropdown = widgets.Dropdown(\n",
    "        options=years,\n",
    "        value=max(years),\n",
    "        description='Year:',\n",
    "        style={'description_width': 'initial'}\n",
    "    )\n",
    "\n",
    "    def update_plot(region, year):\n",
    "        df_filtered = df[df['Period'] == year]\n",
    "\n",
    "        if region != 'All':\n",
    "            df_filtered = df_filtered[df_filtered['ParentLocation'] == region]\n",
    "\n",
    "        df_filtered = df_filtered.sort_values(by='Medical doctors (per 10,000)', ascending=False)\n",
    "\n",
    "        fig = px.bar(df_filtered, \n",
    "                     x='Location', \n",
    "                     y='Medical doctors (per 10,000)', \n",
    "                     title=f\"Medical Doctors per 10,000 People ({year}) - {region}\",\n",
    "                     labels={'Location': 'Country'},\n",
    "                     hover_data={'Medical doctors (per 10,000)': True, 'Location': True},\n",
    "                     text_auto=True)\n",
    "\n",
    "        fig.update_traces(marker_color='royalblue', hoverinfo=\"x+y\", textposition='outside')\n",
    "\n",
    "        fig.update_layout(\n",
    "            xaxis_title=\"Country\",\n",
    "            yaxis_title=\"Doctors per 10,000 People\",\n",
    "            xaxis={'categoryorder': 'total descending'},\n",
    "            hovermode=\"x unified\",\n",
    "            bargap=0.2,\n",
    "            dragmode=\"zoom\"\n",
    "        )\n",
    "\n",
    "        fig.show()\n",
    "\n",
    "    interactive_plot = widgets.interactive(update_plot, region=region_dropdown, year=year_dropdown)\n",
    "    display(region_dropdown, year_dropdown)\n",
    "    update_plot(region_dropdown.value, year_dropdown.value)\n",
    "\n",
    "graph_docs_by_country_plotly(df_WHO)\n"
   ]
  },
  {
   "cell_type": "markdown",
   "metadata": {},
   "source": [
    "#### Bokeh"
   ]
  },
  {
   "cell_type": "code",
   "execution_count": 9,
   "metadata": {},
   "outputs": [
    {
     "data": {
      "text/html": [
       "<style>\n",
       "        .bk-notebook-logo {\n",
       "            display: block;\n",
       "            width: 20px;\n",
       "            height: 20px;\n",
       "            background-image: url(data:image/png;base64,iVBORw0KGgoAAAANSUhEUgAAABQAAAAUCAYAAACNiR0NAAAABHNCSVQICAgIfAhkiAAAAAlwSFlzAAALEgAACxIB0t1+/AAAABx0RVh0U29mdHdhcmUAQWRvYmUgRmlyZXdvcmtzIENTNui8sowAAAOkSURBVDiNjZRtaJVlGMd/1/08zzln5zjP1LWcU9N0NkN8m2CYjpgQYQXqSs0I84OLIC0hkEKoPtiH3gmKoiJDU7QpLgoLjLIQCpEsNJ1vqUOdO7ppbuec5+V+rj4ctwzd8IIbbi6u+8f1539dt3A78eXC7QizUF7gyV1fD1Yqg4JWz84yffhm0qkFqBogB9rM8tZdtwVsPUhWhGcFJngGeWrPzHm5oaMmkfEg1usvLFyc8jLRqDOMru7AyC8saQr7GG7f5fvDeH7Ej8CM66nIF+8yngt6HWaKh7k49Soy9nXurCi1o3qUbS3zWfrYeQDTB/Qj6kX6Ybhw4B+bOYoLKCC9H3Nu/leUTZ1JdRWkkn2ldcCamzrcf47KKXdAJllSlxAOkRgyHsGC/zRday5Qld9DyoM4/q/rUoy/CXh3jzOu3bHUVZeU+DEn8FInkPBFlu3+nW3Nw0mk6vCDiWg8CeJaxEwuHS3+z5RgY+YBR6V1Z1nxSOfoaPa4LASWxxdNp+VWTk7+4vzaou8v8PN+xo+KY2xsw6une2frhw05CTYOmQvsEhjhWjn0bmXPjpE1+kplmmkP3suftwTubK9Vq22qKmrBhpY4jvd5afdRA3wGjFAgcnTK2s4hY0/GPNIb0nErGMCRxWOOX64Z8RAC4oCXdklmEvcL8o0BfkNK4lUg9HTl+oPlQxdNo3Mg4Nv175e/1LDGzZen30MEjRUtmXSfiTVu1kK8W4txyV6BMKlbgk3lMwYCiusNy9fVfvvwMxv8Ynl6vxoByANLTWplvuj/nF9m2+PDtt1eiHPBr1oIfhCChQMBw6Aw0UulqTKZdfVvfG7VcfIqLG9bcldL/+pdWTLxLUy8Qq38heUIjh4XlzZxzQm19lLFlr8vdQ97rjZVOLf8nclzckbcD4wxXMidpX30sFd37Fv/GtwwhzhxGVAprjbg0gCAEeIgwCZyTV2Z1REEW8O4py0wsjeloKoMr6iCY6dP92H6Vw/oTyICIthibxjm/DfN9lVz8IqtqKYLUXfoKVMVQVVJOElGjrnnUt9T9wbgp8AyYKaGlqingHZU/uG2NTZSVqwHQTWkx9hxjkpWDaCg6Ckj5qebgBVbT3V3NNXMSiWSDdGV3hrtzla7J+duwPOToIg42ChPQOQjspnSlp1V+Gjdged7+8UN5CRAV7a5EdFNwCjEaBR27b3W890TE7g24NAP/mMDXRWrGoFPQI9ls/MWO2dWFAar/xcOIImbbpA3zgAAAABJRU5ErkJggg==);\n",
       "        }\n",
       "    </style>\n",
       "    <div>\n",
       "        <a href=\"https://bokeh.org\" target=\"_blank\" class=\"bk-notebook-logo\"></a>\n",
       "        <span id=\"a70bd2cd-99f3-4e81-a0cf-8e590ed3b302\">Loading BokehJS ...</span>\n",
       "    </div>\n"
      ]
     },
     "metadata": {},
     "output_type": "display_data"
    },
    {
     "data": {
      "application/javascript": "(function(root) {\n  function now() {\n    return new Date();\n  }\n\n  const force = true;\n\n  if (typeof root._bokeh_onload_callbacks === \"undefined\" || force === true) {\n    root._bokeh_onload_callbacks = [];\n    root._bokeh_is_loading = undefined;\n  }\n\nconst JS_MIME_TYPE = 'application/javascript';\n  const HTML_MIME_TYPE = 'text/html';\n  const EXEC_MIME_TYPE = 'application/vnd.bokehjs_exec.v0+json';\n  const CLASS_NAME = 'output_bokeh rendered_html';\n\n  /**\n   * Render data to the DOM node\n   */\n  function render(props, node) {\n    const script = document.createElement(\"script\");\n    node.appendChild(script);\n  }\n\n  /**\n   * Handle when an output is cleared or removed\n   */\n  function handleClearOutput(event, handle) {\n    const cell = handle.cell;\n\n    const id = cell.output_area._bokeh_element_id;\n    const server_id = cell.output_area._bokeh_server_id;\n    // Clean up Bokeh references\n    if (id != null && id in Bokeh.index) {\n      Bokeh.index[id].model.document.clear();\n      delete Bokeh.index[id];\n    }\n\n    if (server_id !== undefined) {\n      // Clean up Bokeh references\n      const cmd_clean = \"from bokeh.io.state import curstate; print(curstate().uuid_to_server['\" + server_id + \"'].get_sessions()[0].document.roots[0]._id)\";\n      cell.notebook.kernel.execute(cmd_clean, {\n        iopub: {\n          output: function(msg) {\n            const id = msg.content.text.trim();\n            if (id in Bokeh.index) {\n              Bokeh.index[id].model.document.clear();\n              delete Bokeh.index[id];\n            }\n          }\n        }\n      });\n      // Destroy server and session\n      const cmd_destroy = \"import bokeh.io.notebook as ion; ion.destroy_server('\" + server_id + \"')\";\n      cell.notebook.kernel.execute(cmd_destroy);\n    }\n  }\n\n  /**\n   * Handle when a new output is added\n   */\n  function handleAddOutput(event, handle) {\n    const output_area = handle.output_area;\n    const output = handle.output;\n\n    // limit handleAddOutput to display_data with EXEC_MIME_TYPE content only\n    if ((output.output_type != \"display_data\") || (!Object.prototype.hasOwnProperty.call(output.data, EXEC_MIME_TYPE))) {\n      return\n    }\n\n    const toinsert = output_area.element.find(\".\" + CLASS_NAME.split(' ')[0]);\n\n    if (output.metadata[EXEC_MIME_TYPE][\"id\"] !== undefined) {\n      toinsert[toinsert.length - 1].firstChild.textContent = output.data[JS_MIME_TYPE];\n      // store reference to embed id on output_area\n      output_area._bokeh_element_id = output.metadata[EXEC_MIME_TYPE][\"id\"];\n    }\n    if (output.metadata[EXEC_MIME_TYPE][\"server_id\"] !== undefined) {\n      const bk_div = document.createElement(\"div\");\n      bk_div.innerHTML = output.data[HTML_MIME_TYPE];\n      const script_attrs = bk_div.children[0].attributes;\n      for (let i = 0; i < script_attrs.length; i++) {\n        toinsert[toinsert.length - 1].firstChild.setAttribute(script_attrs[i].name, script_attrs[i].value);\n        toinsert[toinsert.length - 1].firstChild.textContent = bk_div.children[0].textContent\n      }\n      // store reference to server id on output_area\n      output_area._bokeh_server_id = output.metadata[EXEC_MIME_TYPE][\"server_id\"];\n    }\n  }\n\n  function register_renderer(events, OutputArea) {\n\n    function append_mime(data, metadata, element) {\n      // create a DOM node to render to\n      const toinsert = this.create_output_subarea(\n        metadata,\n        CLASS_NAME,\n        EXEC_MIME_TYPE\n      );\n      this.keyboard_manager.register_events(toinsert);\n      // Render to node\n      const props = {data: data, metadata: metadata[EXEC_MIME_TYPE]};\n      render(props, toinsert[toinsert.length - 1]);\n      element.append(toinsert);\n      return toinsert\n    }\n\n    /* Handle when an output is cleared or removed */\n    events.on('clear_output.CodeCell', handleClearOutput);\n    events.on('delete.Cell', handleClearOutput);\n\n    /* Handle when a new output is added */\n    events.on('output_added.OutputArea', handleAddOutput);\n\n    /**\n     * Register the mime type and append_mime function with output_area\n     */\n    OutputArea.prototype.register_mime_type(EXEC_MIME_TYPE, append_mime, {\n      /* Is output safe? */\n      safe: true,\n      /* Index of renderer in `output_area.display_order` */\n      index: 0\n    });\n  }\n\n  // register the mime type if in Jupyter Notebook environment and previously unregistered\n  if (root.Jupyter !== undefined) {\n    const events = require('base/js/events');\n    const OutputArea = require('notebook/js/outputarea').OutputArea;\n\n    if (OutputArea.prototype.mime_types().indexOf(EXEC_MIME_TYPE) == -1) {\n      register_renderer(events, OutputArea);\n    }\n  }\n  if (typeof (root._bokeh_timeout) === \"undefined\" || force === true) {\n    root._bokeh_timeout = Date.now() + 5000;\n    root._bokeh_failed_load = false;\n  }\n\n  const NB_LOAD_WARNING = {'data': {'text/html':\n     \"<div style='background-color: #fdd'>\\n\"+\n     \"<p>\\n\"+\n     \"BokehJS does not appear to have successfully loaded. If loading BokehJS from CDN, this \\n\"+\n     \"may be due to a slow or bad network connection. Possible fixes:\\n\"+\n     \"</p>\\n\"+\n     \"<ul>\\n\"+\n     \"<li>re-rerun `output_notebook()` to attempt to load from CDN again, or</li>\\n\"+\n     \"<li>use INLINE resources instead, as so:</li>\\n\"+\n     \"</ul>\\n\"+\n     \"<code>\\n\"+\n     \"from bokeh.resources import INLINE\\n\"+\n     \"output_notebook(resources=INLINE)\\n\"+\n     \"</code>\\n\"+\n     \"</div>\"}};\n\n  function display_loaded() {\n    const el = document.getElementById(\"a70bd2cd-99f3-4e81-a0cf-8e590ed3b302\");\n    if (el != null) {\n      el.textContent = \"BokehJS is loading...\";\n    }\n    if (root.Bokeh !== undefined) {\n      if (el != null) {\n        el.textContent = \"BokehJS \" + root.Bokeh.version + \" successfully loaded.\";\n      }\n    } else if (Date.now() < root._bokeh_timeout) {\n      setTimeout(display_loaded, 100)\n    }\n  }\n\n  function run_callbacks() {\n    try {\n      root._bokeh_onload_callbacks.forEach(function(callback) {\n        if (callback != null)\n          callback();\n      });\n    } finally {\n      delete root._bokeh_onload_callbacks\n    }\n    console.debug(\"Bokeh: all callbacks have finished\");\n  }\n\n  function load_libs(css_urls, js_urls, callback) {\n    if (css_urls == null) css_urls = [];\n    if (js_urls == null) js_urls = [];\n\n    root._bokeh_onload_callbacks.push(callback);\n    if (root._bokeh_is_loading > 0) {\n      console.debug(\"Bokeh: BokehJS is being loaded, scheduling callback at\", now());\n      return null;\n    }\n    if (js_urls == null || js_urls.length === 0) {\n      run_callbacks();\n      return null;\n    }\n    console.debug(\"Bokeh: BokehJS not loaded, scheduling load and callback at\", now());\n    root._bokeh_is_loading = css_urls.length + js_urls.length;\n\n    function on_load() {\n      root._bokeh_is_loading--;\n      if (root._bokeh_is_loading === 0) {\n        console.debug(\"Bokeh: all BokehJS libraries/stylesheets loaded\");\n        run_callbacks()\n      }\n    }\n\n    function on_error(url) {\n      console.error(\"failed to load \" + url);\n    }\n\n    for (let i = 0; i < css_urls.length; i++) {\n      const url = css_urls[i];\n      const element = document.createElement(\"link\");\n      element.onload = on_load;\n      element.onerror = on_error.bind(null, url);\n      element.rel = \"stylesheet\";\n      element.type = \"text/css\";\n      element.href = url;\n      console.debug(\"Bokeh: injecting link tag for BokehJS stylesheet: \", url);\n      document.body.appendChild(element);\n    }\n\n    for (let i = 0; i < js_urls.length; i++) {\n      const url = js_urls[i];\n      const element = document.createElement('script');\n      element.onload = on_load;\n      element.onerror = on_error.bind(null, url);\n      element.async = false;\n      element.src = url;\n      console.debug(\"Bokeh: injecting script tag for BokehJS library: \", url);\n      document.head.appendChild(element);\n    }\n  };\n\n  function inject_raw_css(css) {\n    const element = document.createElement(\"style\");\n    element.appendChild(document.createTextNode(css));\n    document.body.appendChild(element);\n  }\n\n  const js_urls = [\"https://cdn.bokeh.org/bokeh/release/bokeh-3.1.1.min.js\", \"https://cdn.bokeh.org/bokeh/release/bokeh-gl-3.1.1.min.js\", \"https://cdn.bokeh.org/bokeh/release/bokeh-widgets-3.1.1.min.js\", \"https://cdn.bokeh.org/bokeh/release/bokeh-tables-3.1.1.min.js\", \"https://cdn.bokeh.org/bokeh/release/bokeh-mathjax-3.1.1.min.js\", \"https://unpkg.com/@holoviz/panel@1.2.3/dist/panel.min.js\"];\n  const css_urls = [];\n\n  const inline_js = [    function(Bokeh) {\n      Bokeh.set_log_level(\"info\");\n    },\nfunction(Bokeh) {\n    }\n  ];\n\n  function run_inline_js() {\n    if (root.Bokeh !== undefined || force === true) {\n          for (let i = 0; i < inline_js.length; i++) {\n      inline_js[i].call(root, root.Bokeh);\n    }\nif (force === true) {\n        display_loaded();\n      }} else if (Date.now() < root._bokeh_timeout) {\n      setTimeout(run_inline_js, 100);\n    } else if (!root._bokeh_failed_load) {\n      console.log(\"Bokeh: BokehJS failed to load within specified timeout.\");\n      root._bokeh_failed_load = true;\n    } else if (force !== true) {\n      const cell = $(document.getElementById(\"a70bd2cd-99f3-4e81-a0cf-8e590ed3b302\")).parents('.cell').data().cell;\n      cell.output_area.append_execute_result(NB_LOAD_WARNING)\n    }\n  }\n\n  if (root._bokeh_is_loading === 0) {\n    console.debug(\"Bokeh: BokehJS loaded, going straight to plotting\");\n    run_inline_js();\n  } else {\n    load_libs(css_urls, js_urls, function() {\n      console.debug(\"Bokeh: BokehJS plotting callback run at\", now());\n      run_inline_js();\n    });\n  }\n}(window));",
      "application/vnd.bokehjs_load.v0+json": ""
     },
     "metadata": {},
     "output_type": "display_data"
    },
    {
     "name": "stderr",
     "output_type": "stream",
     "text": [
      "WARNING:bokeh.embed.util:\n",
      "You are generating standalone HTML/JS output, but trying to use real Python\n",
      "callbacks (i.e. with on_change or on_event). This combination cannot work.\n",
      "\n",
      "Only JavaScript callbacks may be used with standalone output. For more\n",
      "information on JavaScript callbacks with Bokeh, see:\n",
      "\n",
      "    https://docs.bokeh.org/en/latest/docs/user_guide/interaction/callbacks.html\n",
      "\n",
      "Alternatively, to use real Python callbacks, a Bokeh server application may\n",
      "be used. For more information on building and running Bokeh applications, see:\n",
      "\n",
      "    https://docs.bokeh.org/en/latest/docs/user_guide/server.html\n",
      "\n"
     ]
    },
    {
     "data": {
      "text/html": [
       "\n",
       "  <div id=\"e9db7db9-c8e0-4bff-8458-aef43ec143bb\" data-root-id=\"45818e57-7e6f-4c69-be9e-522bae923125\" style=\"display: contents;\"></div>\n"
      ]
     },
     "metadata": {},
     "output_type": "display_data"
    },
    {
     "data": {
      "application/javascript": "(function(root) {\n  function embed_document(root) {\n  const docs_json = {\"891890e6-f1e5-4556-ad93-d49725d43aca\":{\"version\":\"3.1.1\",\"title\":\"Bokeh Application\",\"defs\":[{\"type\":\"model\",\"name\":\"ReactiveHTML1\"},{\"type\":\"model\",\"name\":\"FlexBox1\",\"properties\":[{\"name\":\"align_content\",\"kind\":\"Any\",\"default\":\"flex-start\"},{\"name\":\"align_items\",\"kind\":\"Any\",\"default\":\"flex-start\"},{\"name\":\"flex_direction\",\"kind\":\"Any\",\"default\":\"row\"},{\"name\":\"flex_wrap\",\"kind\":\"Any\",\"default\":\"wrap\"},{\"name\":\"justify_content\",\"kind\":\"Any\",\"default\":\"flex-start\"}]},{\"type\":\"model\",\"name\":\"FloatPanel1\",\"properties\":[{\"name\":\"config\",\"kind\":\"Any\",\"default\":{\"type\":\"map\"}},{\"name\":\"contained\",\"kind\":\"Any\",\"default\":true},{\"name\":\"position\",\"kind\":\"Any\",\"default\":\"right-top\"},{\"name\":\"offsetx\",\"kind\":\"Any\",\"default\":null},{\"name\":\"offsety\",\"kind\":\"Any\",\"default\":null},{\"name\":\"theme\",\"kind\":\"Any\",\"default\":\"primary\"},{\"name\":\"status\",\"kind\":\"Any\",\"default\":\"normalized\"}]},{\"type\":\"model\",\"name\":\"GridStack1\",\"properties\":[{\"name\":\"mode\",\"kind\":\"Any\",\"default\":\"warn\"},{\"name\":\"ncols\",\"kind\":\"Any\",\"default\":null},{\"name\":\"nrows\",\"kind\":\"Any\",\"default\":null},{\"name\":\"allow_resize\",\"kind\":\"Any\",\"default\":true},{\"name\":\"allow_drag\",\"kind\":\"Any\",\"default\":true},{\"name\":\"state\",\"kind\":\"Any\",\"default\":[]}]},{\"type\":\"model\",\"name\":\"drag1\",\"properties\":[{\"name\":\"slider_width\",\"kind\":\"Any\",\"default\":5},{\"name\":\"slider_color\",\"kind\":\"Any\",\"default\":\"black\"},{\"name\":\"value\",\"kind\":\"Any\",\"default\":50}]},{\"type\":\"model\",\"name\":\"click1\",\"properties\":[{\"name\":\"terminal_output\",\"kind\":\"Any\",\"default\":\"\"},{\"name\":\"debug_name\",\"kind\":\"Any\",\"default\":\"\"},{\"name\":\"clears\",\"kind\":\"Any\",\"default\":0}]},{\"type\":\"model\",\"name\":\"FastWrapper1\",\"properties\":[{\"name\":\"object\",\"kind\":\"Any\",\"default\":null},{\"name\":\"style\",\"kind\":\"Any\",\"default\":null}]},{\"type\":\"model\",\"name\":\"NotificationAreaBase1\",\"properties\":[{\"name\":\"js_events\",\"kind\":\"Any\",\"default\":{\"type\":\"map\"}},{\"name\":\"position\",\"kind\":\"Any\",\"default\":\"bottom-right\"},{\"name\":\"_clear\",\"kind\":\"Any\",\"default\":0}]},{\"type\":\"model\",\"name\":\"NotificationArea1\",\"properties\":[{\"name\":\"js_events\",\"kind\":\"Any\",\"default\":{\"type\":\"map\"}},{\"name\":\"notifications\",\"kind\":\"Any\",\"default\":[]},{\"name\":\"position\",\"kind\":\"Any\",\"default\":\"bottom-right\"},{\"name\":\"_clear\",\"kind\":\"Any\",\"default\":0},{\"name\":\"types\",\"kind\":\"Any\",\"default\":[{\"type\":\"map\",\"entries\":[[\"type\",\"warning\"],[\"background\",\"#ffc107\"],[\"icon\",{\"type\":\"map\",\"entries\":[[\"className\",\"fas fa-exclamation-triangle\"],[\"tagName\",\"i\"],[\"color\",\"white\"]]}]]},{\"type\":\"map\",\"entries\":[[\"type\",\"info\"],[\"background\",\"#007bff\"],[\"icon\",{\"type\":\"map\",\"entries\":[[\"className\",\"fas fa-info-circle\"],[\"tagName\",\"i\"],[\"color\",\"white\"]]}]]}]}]},{\"type\":\"model\",\"name\":\"Notification\",\"properties\":[{\"name\":\"background\",\"kind\":\"Any\",\"default\":null},{\"name\":\"duration\",\"kind\":\"Any\",\"default\":3000},{\"name\":\"icon\",\"kind\":\"Any\",\"default\":null},{\"name\":\"message\",\"kind\":\"Any\",\"default\":\"\"},{\"name\":\"notification_type\",\"kind\":\"Any\",\"default\":null},{\"name\":\"_destroyed\",\"kind\":\"Any\",\"default\":false}]},{\"type\":\"model\",\"name\":\"TemplateActions1\",\"properties\":[{\"name\":\"open_modal\",\"kind\":\"Any\",\"default\":0},{\"name\":\"close_modal\",\"kind\":\"Any\",\"default\":0}]},{\"type\":\"model\",\"name\":\"BootstrapTemplateActions1\",\"properties\":[{\"name\":\"open_modal\",\"kind\":\"Any\",\"default\":0},{\"name\":\"close_modal\",\"kind\":\"Any\",\"default\":0}]},{\"type\":\"model\",\"name\":\"MaterialTemplateActions1\",\"properties\":[{\"name\":\"open_modal\",\"kind\":\"Any\",\"default\":0},{\"name\":\"close_modal\",\"kind\":\"Any\",\"default\":0}]}],\"roots\":[{\"type\":\"object\",\"name\":\"Column\",\"id\":\"45818e57-7e6f-4c69-be9e-522bae923125\",\"attributes\":{\"children\":[{\"type\":\"object\",\"name\":\"Select\",\"id\":\"5c11d05e-e62b-4087-ad90-fa176b6d688d\",\"attributes\":{\"title\":\"Region:\",\"options\":[\"All\",\"Africa\",\"Americas\",\"Eastern Mediterranean\",\"Europe\",\"South-East Asia\",\"Western Pacific\"],\"value\":\"All\"}},{\"type\":\"object\",\"name\":\"Select\",\"id\":\"5a80e06a-9fcf-4b4d-9595-29d5d3a9cffb\",\"attributes\":{\"title\":\"Year:\",\"options\":[\"1954\",\"1955\",\"1956\",\"1957\",\"1958\",\"1959\",\"1960\",\"1961\",\"1962\",\"1963\",\"1964\",\"1965\",\"1966\",\"1967\",\"1968\",\"1969\",\"1970\",\"1971\",\"1972\",\"1973\",\"1974\",\"1975\",\"1976\",\"1977\",\"1978\",\"1979\",\"1980\",\"1981\",\"1982\",\"1983\",\"1984\",\"1985\",\"1986\",\"1987\",\"1988\",\"1989\",\"1990\",\"1991\",\"1992\",\"1993\",\"1994\",\"1995\",\"1996\",\"1997\",\"1998\",\"1999\",\"2000\",\"2001\",\"2002\",\"2003\",\"2004\",\"2005\",\"2006\",\"2007\",\"2008\",\"2009\",\"2010\",\"2011\",\"2012\",\"2013\",\"2014\",\"2015\",\"2016\",\"2017\",\"2018\",\"2019\",\"2020\",\"2021\",\"2022\",\"2023\"],\"value\":\"2023\"}},{\"type\":\"object\",\"name\":\"Figure\",\"id\":\"b5fe6a3a-67ff-4572-b0bf-f95dc4f7fe3e\",\"attributes\":{\"height\":500,\"x_range\":{\"type\":\"object\",\"name\":\"FactorRange\",\"id\":\"4be04114-e262-4f15-ac5c-2fa78f374f3b\",\"attributes\":{\"factors\":[\"Cabo Verde\",\"Bangladesh\",\"Belgium\",\"Lithuania\",\"Georgia\",\"Austria\",\"Argentina\",\"Andorra\",\"Eswatini\",\"Indonesia\",\"Norway\",\"Belarus\",\"San Marino\",\"Iceland\",\"Poland\",\"Republic of Moldova\",\"Jamaica\",\"Ireland\",\"Israel\",\"Kazakhstan\",\"Ukraine\",\"Saudi Arabia\",\"Chile\",\"United Kingdom of Great Britain and Northern Ireland\",\"Qatar\",\"Nigeria\",\"Botswana\",\"Afghanistan\",\"United Arab Emirates\",\"Canada\",\"Montenegro\",\"Colombia\",\"Dominican Republic\",\"Brazil\",\"Malaysia\",\"Kenya\",\"Ghana\",\"Solomon Islands\",\"Benin\",\"Turkmenistan\",\"Tajikistan\",\"Kyrgyzstan\",\"Iran (Islamic Republic of)\",\"Palau\",\"Peru\",\"El Salvador\",\"Suriname\",\"Sri Lanka\",\"Nepal\",\"Mali\",\"Cote d'Ivoire\",\"Ethiopia\",\"Zimbabwe\",\"Senegal\",\"Yemen\",\"Gambia\",\"Chad\",\"Central African Republic\",\"Papua New Guinea\",\"Niger\"]}},\"y_range\":{\"type\":\"object\",\"name\":\"DataRange1d\",\"id\":\"afa4c06a-81f9-4b6a-a74d-b4070b075ed7\",\"attributes\":{\"start\":0}},\"x_scale\":{\"type\":\"object\",\"name\":\"CategoricalScale\",\"id\":\"251ef772-e6a0-4b4c-ba7c-ed8218fd9d02\"},\"y_scale\":{\"type\":\"object\",\"name\":\"LinearScale\",\"id\":\"705f9ec4-09df-4d9f-ab33-bdba5cec71b1\"},\"title\":{\"type\":\"object\",\"name\":\"Title\",\"id\":\"964df125-a166-4ddf-8bb2-373532357f2e\",\"attributes\":{\"text\":\"Medical Doctors per 10,000 People (2023) - All\"}},\"renderers\":[{\"type\":\"object\",\"name\":\"GlyphRenderer\",\"id\":\"96dbd687-f42e-4e4f-93c2-e03697a8fb44\",\"attributes\":{\"data_source\":{\"type\":\"object\",\"name\":\"ColumnDataSource\",\"id\":\"e73281aa-fcfd-48fa-8d02-691b961ff341\",\"attributes\":{\"selected\":{\"type\":\"object\",\"name\":\"Selection\",\"id\":\"175bba44-35f7-4599-87fb-94f4072a164c\",\"attributes\":{\"indices\":[],\"line_indices\":[]}},\"selection_policy\":{\"type\":\"object\",\"name\":\"UnionRenderers\",\"id\":\"ab19f0bd-8c04-4718-b003-d3e5d3985d65\"},\"data\":{\"type\":\"map\",\"entries\":[[\"index\",{\"type\":\"ndarray\",\"array\":{\"type\":\"bytes\",\"data\":\"VgAAAMoNAAAZBgAA2wkAAMwHAACWBQAAKgIAAD8FAAC/AAAA8w0AANQKAADaBQAAygsAAKIIAAAUCwAAdgsAADEDAADJCAAACQkAAGAJAABQDQAAtAQAAHACAACQDQAAogQAAJ8BAAAsAAAA7gMAAAEFAABZAgAAVgoAAJcCAADZAgAAUwIAAE4PAAAWAQAA9wAAAC0QAAAWAAAAAQ0AAOkMAACLCQAAGQQAALsPAACSAwAACQMAALgDAAA4DgAAFw4AAE4BAACVAAAAzAAAABcCAAC2AQAACgUAAOUAAAB5AAAAZwAAAMIPAACSAQAA\"},\"shape\":[60],\"dtype\":\"int32\",\"order\":\"little\"}],[\"ParentLocation\",{\"type\":\"ndarray\",\"array\":[\"Africa\",\"South-East Asia\",\"Europe\",\"Europe\",\"Europe\",\"Europe\",\"Americas\",\"Europe\",\"Africa\",\"South-East Asia\",\"Europe\",\"Europe\",\"Europe\",\"Europe\",\"Europe\",\"Europe\",\"Americas\",\"Europe\",\"Europe\",\"Europe\",\"Europe\",\"Eastern Mediterranean\",\"Americas\",\"Europe\",\"Eastern Mediterranean\",\"Africa\",\"Africa\",\"Eastern Mediterranean\",\"Eastern Mediterranean\",\"Americas\",\"Europe\",\"Americas\",\"Americas\",\"Americas\",\"Western Pacific\",\"Africa\",\"Africa\",\"Western Pacific\",\"Africa\",\"Europe\",\"Europe\",\"Europe\",\"Eastern Mediterranean\",\"Western Pacific\",\"Americas\",\"Americas\",\"Americas\",\"South-East Asia\",\"South-East Asia\",\"Africa\",\"Africa\",\"Africa\",\"Africa\",\"Africa\",\"Eastern Mediterranean\",\"Africa\",\"Africa\",\"Africa\",\"Western Pacific\",\"Africa\"],\"shape\":[60],\"dtype\":\"object\",\"order\":\"little\"}],[\"Location\",{\"type\":\"ndarray\",\"array\":[\"Cabo Verde\",\"Bangladesh\",\"Belgium\",\"Lithuania\",\"Georgia\",\"Austria\",\"Argentina\",\"Andorra\",\"Eswatini\",\"Indonesia\",\"Norway\",\"Belarus\",\"San Marino\",\"Iceland\",\"Poland\",\"Republic of Moldova\",\"Jamaica\",\"Ireland\",\"Israel\",\"Kazakhstan\",\"Ukraine\",\"Saudi Arabia\",\"Chile\",\"United Kingdom of Great Britain and Northern Ireland\",\"Qatar\",\"Nigeria\",\"Botswana\",\"Afghanistan\",\"United Arab Emirates\",\"Canada\",\"Montenegro\",\"Colombia\",\"Dominican Republic\",\"Brazil\",\"Malaysia\",\"Kenya\",\"Ghana\",\"Solomon Islands\",\"Benin\",\"Turkmenistan\",\"Tajikistan\",\"Kyrgyzstan\",\"Iran (Islamic Republic of)\",\"Palau\",\"Peru\",\"El Salvador\",\"Suriname\",\"Sri Lanka\",\"Nepal\",\"Mali\",\"Cote d'Ivoire\",\"Ethiopia\",\"Zimbabwe\",\"Senegal\",\"Yemen\",\"Gambia\",\"Chad\",\"Central African Republic\",\"Papua New Guinea\",\"Niger\"],\"shape\":[60],\"dtype\":\"object\",\"order\":\"little\"}],[\"Period\",{\"type\":\"ndarray\",\"array\":{\"type\":\"bytes\",\"data\":\"5wcAAOcHAADnBwAA5wcAAOcHAADnBwAA5wcAAOcHAADnBwAA5wcAAOcHAADnBwAA5wcAAOcHAADnBwAA5wcAAOcHAADnBwAA5wcAAOcHAADnBwAA5wcAAOcHAADnBwAA5wcAAOcHAADnBwAA5wcAAOcHAADnBwAA5wcAAOcHAADnBwAA5wcAAOcHAADnBwAA5wcAAOcHAADnBwAA5wcAAOcHAADnBwAA5wcAAOcHAADnBwAA5wcAAOcHAADnBwAA5wcAAOcHAADnBwAA5wcAAOcHAADnBwAA5wcAAOcHAADnBwAA5wcAAOcHAADnBwAA\"},\"shape\":[60],\"dtype\":\"int32\",\"order\":\"little\"}],[\"Generalist medical practitioners (number)\",{\"type\":\"ndarray\",\"array\":[\"144\",{\"type\":\"number\",\"value\":\"nan\"},{\"type\":\"number\",\"value\":\"nan\"},{\"type\":\"number\",\"value\":\"nan\"},\"3136\",\"13 026\",{\"type\":\"number\",\"value\":\"nan\"},\"109\",\"621\",\"101 218\",\"5785\",{\"type\":\"number\",\"value\":\"nan\"},\"25\",\"221\",{\"type\":\"number\",\"value\":\"nan\"},\"1620\",\"1306\",\"10 922\",\"10 204\",\"12 306\",{\"type\":\"number\",\"value\":\"nan\"},\"26 098\",\"32 504\",\"53 966\",\"1777\",\"86 180\",\"856\",\"8099\",{\"type\":\"number\",\"value\":\"nan\"},\"51 860\",\"355\",{\"type\":\"number\",\"value\":\"nan\"},\"12 736\",\"256 076\",\"67 306\",{\"type\":\"number\",\"value\":\"nan\"},\"3680\",\"158\",\"2061\",\"4647\",{\"type\":\"number\",\"value\":\"nan\"},{\"type\":\"number\",\"value\":\"nan\"},\"100 661\",{\"type\":\"number\",\"value\":\"nan\"},\"32 507\",{\"type\":\"number\",\"value\":\"nan\"},\"641\",\"23 261\",\"20 204\",\"3580\",{\"type\":\"number\",\"value\":\"nan\"},\"12 589\",\"2220\",\"671\",{\"type\":\"number\",\"value\":\"nan\"},\"210\",\"1330\",\"283\",\"382\",\"904\"],\"shape\":[60],\"dtype\":\"object\",\"order\":\"little\"}],[\"Medical doctors (number)\",{\"type\":\"ndarray\",\"array\":[\"381\",\"123 853\",\"76 427\",\"17 421\",\"21 483\",\"50 356\",\"232 525\",\"410\",\"685\",\"147 279\",\"27 455\",\"42 994\",\"156\",\"1695\",\"156 249\",\"12 316\",\"1306\",\"20 135\",\"35 144\",\"76 328\",\"133 237\",\"113 300\",\"65 535\",\"226 725\",\"9004\",\"86 642\",\"941\",\"13 155\",\"31 844\",\"110 776\",\"1763\",\"132 648\",\"27 484\",\"497 602\",\"82 227\",\"15 994\",\"8977\",\"190\",\"3042\",\"14 214\",\"19 433\",\"13 087\",\"164 086\",\"32\",\"57 128\",\"10 194\",\"852\",\"26 097\",\"30 027\",\"4456\",\"5169\",\"18 413\",\"2222\",\"1973\",\"3872\",\"242\",\"1641\",\"383\",\"635\",\"994\"],\"shape\":[60],\"dtype\":\"object\",\"order\":\"little\"}],[\"Medical doctors (per 10,000)\",{\"type\":\"ndarray\",\"array\":[\"7.3\",\"7.22\",\"65.25\",\"61.04\",\"56.42\",\"55.15\",\"51.06\",\"50.68\",\"5.57\",\"5.24\",\"49.75\",\"47.17\",\"46.29\",\"43.73\",\"40.31\",\"40.16\",\"4.6\",\"38.75\",\"37.97\",\"37.54\",\"35.31\",\"34.06\",\"33.34\",\"33.01\",\"30.22\",\"3.8\",\"3.79\",\"3.17\",\"29.92\",\"28.19\",\"27.83\",\"25.35\",\"24.26\",\"23.57\",\"23.41\",\"2.89\",\"2.66\",\"2.38\",\"2.16\",\"19.3\",\"18.7\",\"18.5\",\"18.11\",\"18.08\",\"16.88\",\"16.16\",\"13.55\",\"11.36\",\"10.11\",\"1.88\",\"1.66\",\"1.43\",\"1.36\",\"1.09\",\"0.98\",\"0.9\",\"0.85\",\"0.74\",\"0.61\",\"0.38\"],\"shape\":[60],\"dtype\":\"object\",\"order\":\"little\"}],[\"Medical doctors not further defined (number)\",{\"type\":\"ndarray\",\"array\":[{\"type\":\"number\",\"value\":\"nan\"},\"123 853\",\"76 427\",\"17 421\",\"9665\",\"8987\",\"232 525\",{\"type\":\"number\",\"value\":\"nan\"},{\"type\":\"number\",\"value\":\"nan\"},{\"type\":\"number\",\"value\":\"nan\"},\"9969\",\"9491\",\"25\",\"587\",\"156 249\",{\"type\":\"number\",\"value\":\"nan\"},{\"type\":\"number\",\"value\":\"nan\"},{\"type\":\"number\",\"value\":\"nan\"},{\"type\":\"number\",\"value\":\"nan\"},{\"type\":\"number\",\"value\":\"nan\"},\"133 237\",\"5607\",{\"type\":\"number\",\"value\":\"nan\"},\"113\",{\"type\":\"number\",\"value\":\"nan\"},{\"type\":\"number\",\"value\":\"nan\"},{\"type\":\"number\",\"value\":\"nan\"},{\"type\":\"number\",\"value\":\"nan\"},\"31 844\",{\"type\":\"number\",\"value\":\"nan\"},{\"type\":\"number\",\"value\":\"nan\"},\"132 648\",\"816\",\"119 341\",{\"type\":\"number\",\"value\":\"nan\"},\"15 994\",{\"type\":\"number\",\"value\":\"nan\"},{\"type\":\"number\",\"value\":\"nan\"},{\"type\":\"number\",\"value\":\"nan\"},{\"type\":\"number\",\"value\":\"nan\"},\"19 433\",\"13 087\",{\"type\":\"number\",\"value\":\"nan\"},\"32\",{\"type\":\"number\",\"value\":\"nan\"},\"10 194\",{\"type\":\"number\",\"value\":\"nan\"},{\"type\":\"number\",\"value\":\"nan\"},{\"type\":\"number\",\"value\":\"nan\"},{\"type\":\"number\",\"value\":\"nan\"},\"5169\",{\"type\":\"number\",\"value\":\"nan\"},\"2\",{\"type\":\"number\",\"value\":\"nan\"},\"3872\",{\"type\":\"number\",\"value\":\"nan\"},{\"type\":\"number\",\"value\":\"nan\"},{\"type\":\"number\",\"value\":\"nan\"},\"32\",{\"type\":\"number\",\"value\":\"nan\"}],\"shape\":[60],\"dtype\":\"object\",\"order\":\"little\"}],[\"Specialist medical practitioners (number)\",{\"type\":\"ndarray\",\"array\":[\"237\",{\"type\":\"number\",\"value\":\"nan\"},{\"type\":\"number\",\"value\":\"nan\"},{\"type\":\"number\",\"value\":\"nan\"},\"8682\",\"28 343\",{\"type\":\"number\",\"value\":\"nan\"},\"301\",\"64\",\"46 061\",\"11 701\",\"33 503\",\"106\",\"887\",{\"type\":\"number\",\"value\":\"nan\"},\"10 696\",{\"type\":\"number\",\"value\":\"nan\"},\"9213\",\"24 940\",\"64 022\",{\"type\":\"number\",\"value\":\"nan\"},\"81 595\",\"33 031\",\"172 646\",\"7227\",\"462\",\"85\",\"5056\",{\"type\":\"number\",\"value\":\"nan\"},\"58 916\",\"1408\",{\"type\":\"number\",\"value\":\"nan\"},\"13 932\",\"122 185\",\"14 921\",{\"type\":\"number\",\"value\":\"nan\"},\"5297\",\"32\",\"981\",\"9567\",{\"type\":\"number\",\"value\":\"nan\"},{\"type\":\"number\",\"value\":\"nan\"},\"63 425\",{\"type\":\"number\",\"value\":\"nan\"},\"24 621\",{\"type\":\"number\",\"value\":\"nan\"},\"211\",\"2836\",\"9823\",\"876\",{\"type\":\"number\",\"value\":\"nan\"},\"5824\",{\"type\":\"number\",\"value\":\"nan\"},\"1302\",{\"type\":\"number\",\"value\":\"nan\"},\"32\",\"311\",\"100\",\"221\",\"90\"],\"shape\":[60],\"dtype\":\"object\",\"order\":\"little\"}]]}}},\"view\":{\"type\":\"object\",\"name\":\"CDSView\",\"id\":\"9d3924b2-dc2a-4c6b-b61a-d55ecb7bea44\",\"attributes\":{\"filter\":{\"type\":\"object\",\"name\":\"AllIndices\",\"id\":\"7d8fae43-de70-44ae-a01d-27bc5419f30b\"}}},\"glyph\":{\"type\":\"object\",\"name\":\"VBar\",\"id\":\"6aee84a0-5073-471b-88ef-bc56f9b13656\",\"attributes\":{\"x\":{\"type\":\"field\",\"field\":\"Location\"},\"width\":{\"type\":\"value\",\"value\":0.8},\"top\":{\"type\":\"field\",\"field\":\"Medical doctors (per 10,000)\"},\"line_color\":{\"type\":\"value\",\"value\":\"royalblue\"},\"fill_color\":{\"type\":\"value\",\"value\":\"royalblue\"},\"hatch_color\":{\"type\":\"value\",\"value\":\"royalblue\"}}},\"nonselection_glyph\":{\"type\":\"object\",\"name\":\"VBar\",\"id\":\"399feaa7-b717-4b55-a03b-0699bff5cff9\",\"attributes\":{\"x\":{\"type\":\"field\",\"field\":\"Location\"},\"width\":{\"type\":\"value\",\"value\":0.8},\"top\":{\"type\":\"field\",\"field\":\"Medical doctors (per 10,000)\"},\"line_color\":{\"type\":\"value\",\"value\":\"royalblue\"},\"line_alpha\":{\"type\":\"value\",\"value\":0.1},\"fill_color\":{\"type\":\"value\",\"value\":\"royalblue\"},\"fill_alpha\":{\"type\":\"value\",\"value\":0.1},\"hatch_color\":{\"type\":\"value\",\"value\":\"royalblue\"},\"hatch_alpha\":{\"type\":\"value\",\"value\":0.1}}},\"muted_glyph\":{\"type\":\"object\",\"name\":\"VBar\",\"id\":\"799354b1-b6b1-4ad5-af76-32069e4de0e6\",\"attributes\":{\"x\":{\"type\":\"field\",\"field\":\"Location\"},\"width\":{\"type\":\"value\",\"value\":0.8},\"top\":{\"type\":\"field\",\"field\":\"Medical doctors (per 10,000)\"},\"line_color\":{\"type\":\"value\",\"value\":\"royalblue\"},\"line_alpha\":{\"type\":\"value\",\"value\":0.2},\"fill_color\":{\"type\":\"value\",\"value\":\"royalblue\"},\"fill_alpha\":{\"type\":\"value\",\"value\":0.2},\"hatch_color\":{\"type\":\"value\",\"value\":\"royalblue\"},\"hatch_alpha\":{\"type\":\"value\",\"value\":0.2}}}}}],\"toolbar\":{\"type\":\"object\",\"name\":\"Toolbar\",\"id\":\"6259dd6d-8706-4363-969e-7098cebe6ba8\",\"attributes\":{\"tools\":[{\"type\":\"object\",\"name\":\"PanTool\",\"id\":\"cb111cdf-d309-4dc1-a64a-cc1bec4ce432\"},{\"type\":\"object\",\"name\":\"BoxZoomTool\",\"id\":\"cf9e4619-9468-4d1b-a8ca-200dc042a914\",\"attributes\":{\"overlay\":{\"type\":\"object\",\"name\":\"BoxAnnotation\",\"id\":\"9c782f6e-917c-418d-b0e0-e59d2ec3e2f7\",\"attributes\":{\"syncable\":false,\"level\":\"overlay\",\"visible\":false,\"left_units\":\"canvas\",\"right_units\":\"canvas\",\"bottom_units\":\"canvas\",\"top_units\":\"canvas\",\"line_color\":\"black\",\"line_alpha\":1.0,\"line_width\":2,\"line_dash\":[4,4],\"fill_color\":\"lightgrey\",\"fill_alpha\":0.5}}}},{\"type\":\"object\",\"name\":\"ResetTool\",\"id\":\"c0e36931-34dd-4420-92ce-c7367c019b61\"},{\"type\":\"object\",\"name\":\"SaveTool\",\"id\":\"6f5a2e05-21d1-4eab-b038-0fa2c1fe516c\"},{\"type\":\"object\",\"name\":\"HoverTool\",\"id\":\"ed649e0e-7416-49c1-a4c3-b2f9bef8c90c\",\"attributes\":{\"renderers\":\"auto\",\"tooltips\":[[\"Country\",\"@Location\"],[\"Doctors per 10k\",\"@{Medical doctors (per 10,000)}\"]]}}]}},\"toolbar_location\":\"above\",\"left\":[{\"type\":\"object\",\"name\":\"LinearAxis\",\"id\":\"2e578826-ffb8-4392-9ea4-c0e36a9ad3fb\",\"attributes\":{\"ticker\":{\"type\":\"object\",\"name\":\"BasicTicker\",\"id\":\"c870d0cf-d497-4e74-bab3-798b2c00621f\",\"attributes\":{\"mantissas\":[1,2,5]}},\"formatter\":{\"type\":\"object\",\"name\":\"BasicTickFormatter\",\"id\":\"84631fef-cd57-4a9f-82d1-83f450d675e9\"},\"axis_label\":\"Doctors per 10,000 People\",\"major_label_policy\":{\"type\":\"object\",\"name\":\"AllLabels\",\"id\":\"398b6213-f7a1-41c0-bb69-878e5f256f13\"}}}],\"below\":[{\"type\":\"object\",\"name\":\"CategoricalAxis\",\"id\":\"5c269a03-3ce8-4615-aa27-5fe5ec7d0287\",\"attributes\":{\"ticker\":{\"type\":\"object\",\"name\":\"CategoricalTicker\",\"id\":\"6abd057e-b1df-42a3-9f44-e46071c7184a\"},\"formatter\":{\"type\":\"object\",\"name\":\"CategoricalTickFormatter\",\"id\":\"763732c0-2465-4f0d-a916-566e50a9caad\"},\"axis_label\":\"Country\",\"major_label_policy\":{\"type\":\"object\",\"name\":\"AllLabels\",\"id\":\"3485d02f-3ceb-4c05-b0ec-ab8a28885923\"}}}],\"center\":[{\"type\":\"object\",\"name\":\"Grid\",\"id\":\"0eb6f422-740d-44fd-bfbe-eecc25d4afb4\",\"attributes\":{\"axis\":{\"id\":\"5c269a03-3ce8-4615-aa27-5fe5ec7d0287\"},\"grid_line_color\":null}},{\"type\":\"object\",\"name\":\"Grid\",\"id\":\"2827ed8c-bcca-4317-9dfa-458720cdef9f\",\"attributes\":{\"dimension\":1,\"axis\":{\"id\":\"2e578826-ffb8-4392-9ea4-c0e36a9ad3fb\"}}}]}}]}}],\"callbacks\":{\"type\":\"map\"}}};\n  const render_items = [{\"docid\":\"891890e6-f1e5-4556-ad93-d49725d43aca\",\"roots\":{\"45818e57-7e6f-4c69-be9e-522bae923125\":\"e9db7db9-c8e0-4bff-8458-aef43ec143bb\"},\"root_ids\":[\"45818e57-7e6f-4c69-be9e-522bae923125\"],\"notebook_comms_target\":\"495893f0-7b0c-41dd-bf74-1d3a11289dc6\"}];\n  root.Bokeh.embed.embed_items_notebook(docs_json, render_items);\n  }\n  if (root.Bokeh !== undefined) {\n    embed_document(root);\n  } else {\n    let attempts = 0;\n    const timer = setInterval(function(root) {\n      if (root.Bokeh !== undefined) {\n        clearInterval(timer);\n        embed_document(root);\n      } else {\n        attempts++;\n        if (attempts > 100) {\n          clearInterval(timer);\n          console.log(\"Bokeh: ERROR: Unable to run BokehJS code because BokehJS library is missing\");\n        }\n      }\n    }, 10, root)\n  }\n})(window);",
      "application/vnd.bokehjs_exec.v0+json": ""
     },
     "metadata": {
      "application/vnd.bokehjs_exec.v0+json": {
       "id": "45818e57-7e6f-4c69-be9e-522bae923125"
      }
     },
     "output_type": "display_data"
    }
   ],
   "source": [
    "output_notebook()\n",
    "\n",
    "\n",
    "def graph_docs_by_country_bokeh(df):\n",
    "    parent_locations = sorted(df['ParentLocation'].dropna().unique())\n",
    "    years = sorted(df['Period'].unique())\n",
    "\n",
    "    default_year = max(years)\n",
    "    default_region = 'All'\n",
    "\n",
    "    def get_filtered_data(region, year):\n",
    "        df_filtered = df[df['Period'] == year]\n",
    "        if region != 'All':\n",
    "            df_filtered = df_filtered[df_filtered['ParentLocation'] == region]\n",
    "        df_filtered = df_filtered.sort_values(by='Medical doctors (per 10,000)', ascending=False)\n",
    "        return df_filtered\n",
    "\n",
    "    df_initial = get_filtered_data(default_region, default_year)\n",
    "    source = ColumnDataSource(df_initial)\n",
    "\n",
    "    p = figure(\n",
    "        x_range=list(df_initial['Location']), \n",
    "        height=500, \n",
    "        title=f\"Medical Doctors per 10,000 People ({default_year}) - {default_region}\",\n",
    "        tools=\"pan,box_zoom,reset,save\", \n",
    "        toolbar_location=\"above\"\n",
    "    )\n",
    "\n",
    "    bars = p.vbar(x='Location', top='Medical doctors (per 10,000)', source=source, width=0.8, color=\"royalblue\")\n",
    "\n",
    "    p.xaxis.axis_label = \"Country\"\n",
    "    p.yaxis.axis_label = \"Doctors per 10,000 People\"\n",
    "    p.xgrid.grid_line_color = None\n",
    "    p.y_range.start = 0\n",
    "\n",
    "    hover = HoverTool()\n",
    "    hover.tooltips = [(\"Country\", \"@Location\"), (\"Doctors per 10k\", \"@{Medical doctors (per 10,000)}\")]\n",
    "    p.add_tools(hover)\n",
    "\n",
    "    region_select = Select(title=\"Region:\", value=default_region, options=['All'] + parent_locations)\n",
    "    year_select = Select(title=\"Year:\", value=str(default_year), options=[str(y) for y in years])\n",
    "\n",
    "    def update(attr, old, new):\n",
    "        region = region_select.value\n",
    "        year = int(year_select.value)\n",
    "        df_updated = get_filtered_data(region, year)\n",
    "\n",
    "        source.data = ColumnDataSource.from_df(df_updated)\n",
    "\n",
    "        p.x_range.factors = list(df_updated['Location'])\n",
    "        p.title.text = f\"Medical Doctors per 10,000 People ({year}) - {region}\"\n",
    "\n",
    "        push_notebook()\n",
    "        \n",
    "    region_select.on_change('value', update)\n",
    "    year_select.on_change('value', update)\n",
    "\n",
    "    show(column(region_select, year_select, p), notebook_handle=True)\n",
    "\n",
    "\n",
    "graph_docs_by_country_bokeh(df_WHO)\n"
   ]
  },
  {
   "cell_type": "code",
   "execution_count": null,
   "metadata": {},
   "outputs": [],
   "source": []
  }
 ],
 "metadata": {
  "kernelspec": {
   "display_name": "base",
   "language": "python",
   "name": "python3"
  },
  "language_info": {
   "codemirror_mode": {
    "name": "ipython",
    "version": 3
   },
   "file_extension": ".py",
   "mimetype": "text/x-python",
   "name": "python",
   "nbconvert_exporter": "python",
   "pygments_lexer": "ipython3",
   "version": "3.8.5"
  }
 },
 "nbformat": 4,
 "nbformat_minor": 2
}
